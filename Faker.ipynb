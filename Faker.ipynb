{
 "cells": [
  {
   "cell_type": "code",
   "execution_count": 101,
   "metadata": {},
   "outputs": [],
   "source": [
    "from faker import Faker\n",
    "import pandas as pd\n",
    "import numpy as np\n",
    "import random\n",
    "from wordcloud import WordCloud, STOPWORDS\n",
    "import matplotlib.pyplot as plt"
   ]
  },
  {
   "cell_type": "code",
   "execution_count": 117,
   "metadata": {},
   "outputs": [],
   "source": [
    "fake_gen = Faker()"
   ]
  },
  {
   "cell_type": "code",
   "execution_count": 118,
   "metadata": {},
   "outputs": [
    {
     "data": {
      "text/plain": [
       "{'job': 'Control and instrumentation engineer',\n",
       " 'company': 'Johnson LLC',\n",
       " 'ssn': '042-96-8956',\n",
       " 'residence': '54321 Huffman Stream Apt. 077\\nMyersbury, VT 46974',\n",
       " 'current_location': (Decimal('-10.623646'), Decimal('43.469034')),\n",
       " 'blood_group': 'AB+',\n",
       " 'website': ['https://www.blake.com/',\n",
       "  'http://bass.com/',\n",
       "  'https://www.collins.com/',\n",
       "  'https://krause-turner.com/'],\n",
       " 'username': 'bestmatthew',\n",
       " 'name': 'Benjamin Merritt',\n",
       " 'sex': 'M',\n",
       " 'address': '59621 Matthew Ridge Apt. 024\\nNorth Karen, WI 44574',\n",
       " 'mail': 'andrew40@gmail.com',\n",
       " 'birthdate': datetime.date(2005, 12, 17)}"
      ]
     },
     "execution_count": 118,
     "metadata": {},
     "output_type": "execute_result"
    }
   ],
   "source": [
    "fake_gen.profile()"
   ]
  },
  {
   "cell_type": "code",
   "execution_count": 190,
   "metadata": {},
   "outputs": [
    {
     "data": {
      "text/plain": [
       "'Walters'"
      ]
     },
     "execution_count": 190,
     "metadata": {},
     "output_type": "execute_result"
    }
   ],
   "source": [
    "fake_gen.profile()['name'].split()[1]"
   ]
  },
  {
   "cell_type": "code",
   "execution_count": 188,
   "metadata": {},
   "outputs": [],
   "source": [
    "fake_profiles = []\n",
    "\n",
    "for i in range(500):\n",
    "    first_name = fake_gen.profile()['name'].split()[1]\n",
    "    salary = np.random.randint(30000,250000)\n",
    "    sex = fake_gen.profile()['sex']\n",
    "    country = random.choice(['Gibraltar', 'Tajikistan', 'Belize', 'Fiji', 'Lesotho'])\n",
    "    job = random.choice(['Lexicographer',\n",
    "                         'Programmer, applications',\n",
    "                         'Physicist, medical',\n",
    "                         'Theatre manager',\n",
    "                         'Engineer, petroleum',\n",
    "                         'Catering manager',\n",
    "                         'Therapist, art',\n",
    "                         'Waste management officer',\n",
    "                         'Hydrogeologist'])\n",
    "    review = fake_gen.text(80)\n",
    "    sentiment = random.choice(['Positive', 'Neutral', 'Negative'])\n",
    "    longitude = fake_gen.longitude()\n",
    "    latitude = fake_gen.latitude()\n",
    "    dob = fake_gen.date_of_birth()\n",
    "    age = 2020 - dob.year\n",
    "    dob = dob.strftime('%Y-%m-%d')\n",
    "    \n",
    "    fake_profiles.append([first_name, salary, sex, age, dob, country, job, review, sentiment, longitude, latitude])"
   ]
  },
  {
   "cell_type": "code",
   "execution_count": 187,
   "metadata": {},
   "outputs": [],
   "source": [
    "df = pd.DataFrame(fake_profiles, columns=['first_name', 'salary', 'sex', 'age', 'dob', 'country', 'job', 'review',\\\n",
    "                                          'sentiment', 'longitude', 'latitude'])"
   ]
  },
  {
   "cell_type": "code",
   "execution_count": 177,
   "metadata": {},
   "outputs": [],
   "source": [
    "df.to_csv('faker.csv', index=None)"
   ]
  },
  {
   "cell_type": "code",
   "execution_count": 185,
   "metadata": {},
   "outputs": [
    {
     "data": {
      "text/plain": [
       "'2020-10-17'"
      ]
     },
     "execution_count": 185,
     "metadata": {},
     "output_type": "execute_result"
    }
   ],
   "source": [
    "df['dob'].max()"
   ]
  },
  {
   "cell_type": "code",
   "execution_count": null,
   "metadata": {},
   "outputs": [],
   "source": []
  }
 ],
 "metadata": {
  "kernelspec": {
   "display_name": "Python 3",
   "language": "python",
   "name": "python3"
  },
  "language_info": {
   "codemirror_mode": {
    "name": "ipython",
    "version": 3
   },
   "file_extension": ".py",
   "mimetype": "text/x-python",
   "name": "python",
   "nbconvert_exporter": "python",
   "pygments_lexer": "ipython3",
   "version": "3.8.3"
  }
 },
 "nbformat": 4,
 "nbformat_minor": 4
}
